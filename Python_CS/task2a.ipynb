{
 "cells": [
  {
   "cell_type": "code",
   "execution_count": 1,
   "id": "c8934e99-2433-401b-9a01-d26bdc1ec7f4",
   "metadata": {},
   "outputs": [],
   "source": [
    "import pandas as pd\n",
    "import json\n",
    "path = open(r\"C:\\Users\\shaik.gousia\\Desktop\\Shaik_Kandukuru_Gousia\\Cs_Files\\File1.json\")"
   ]
  },
  {
   "cell_type": "code",
   "execution_count": 2,
   "id": "6f17900e-9433-4b6a-aae1-5c1260544b00",
   "metadata": {},
   "outputs": [],
   "source": [
    "data = json.load(path)"
   ]
  },
  {
   "cell_type": "code",
   "execution_count": 3,
   "id": "36bd4f9c-5ba0-499e-8dda-66eb80bef339",
   "metadata": {},
   "outputs": [
    {
     "data": {
      "text/plain": [
       "dict_keys(['meta', 'data'])"
      ]
     },
     "execution_count": 3,
     "metadata": {},
     "output_type": "execute_result"
    }
   ],
   "source": [
    "data.keys()"
   ]
  },
  {
   "cell_type": "code",
   "execution_count": 4,
   "id": "9367fbe1-c9d4-4da9-bbe8-63e95cf2054b",
   "metadata": {},
   "outputs": [],
   "source": [
    "col = data['meta']['view']['columns'] "
   ]
  },
  {
   "cell_type": "code",
   "execution_count": 5,
   "id": "0bdd74b0-e231-4562-9761-27622379b4ba",
   "metadata": {},
   "outputs": [],
   "source": [
    "Name = []\n",
    "Description = []\n",
    "Datatype = []"
   ]
  },
  {
   "cell_type": "code",
   "execution_count": 6,
   "id": "61063341-d1d6-4acf-bfa6-fe3b0f63bd91",
   "metadata": {},
   "outputs": [],
   "source": [
    "for i in col:\n",
    "    Name.append(i.get('fieldName').replace(\":\",\"\").strip())\n",
    "    Description.append(i.get('description',\"\").strip())\n",
    "    Datatype.append(i.get('dataTypeName'))"
   ]
  },
  {
   "cell_type": "code",
   "execution_count": 7,
   "id": "e5327ce5-ed99-4b57-a275-0bef640fd92c",
   "metadata": {},
   "outputs": [],
   "source": [
    "d = pd.DataFrame({'Column Names':Name,'Descriptions':Description,'Datatypes':Datatype})"
   ]
  },
  {
   "cell_type": "code",
   "execution_count": 8,
   "id": "40b28920-5ef3-4dfb-a580-40c7a3c0a964",
   "metadata": {
    "tags": []
   },
   "outputs": [
    {
     "data": {
      "text/html": [
       "<div>\n",
       "<style scoped>\n",
       "    .dataframe tbody tr th:only-of-type {\n",
       "        vertical-align: middle;\n",
       "    }\n",
       "\n",
       "    .dataframe tbody tr th {\n",
       "        vertical-align: top;\n",
       "    }\n",
       "\n",
       "    .dataframe thead th {\n",
       "        text-align: right;\n",
       "    }\n",
       "</style>\n",
       "<table border=\"1\" class=\"dataframe\">\n",
       "  <thead>\n",
       "    <tr style=\"text-align: right;\">\n",
       "      <th></th>\n",
       "      <th>Column Names</th>\n",
       "      <th>Descriptions</th>\n",
       "      <th>Datatypes</th>\n",
       "    </tr>\n",
       "  </thead>\n",
       "  <tbody>\n",
       "    <tr>\n",
       "      <th>0</th>\n",
       "      <td>sid</td>\n",
       "      <td></td>\n",
       "      <td>meta_data</td>\n",
       "    </tr>\n",
       "    <tr>\n",
       "      <th>1</th>\n",
       "      <td>id</td>\n",
       "      <td></td>\n",
       "      <td>meta_data</td>\n",
       "    </tr>\n",
       "    <tr>\n",
       "      <th>2</th>\n",
       "      <td>position</td>\n",
       "      <td></td>\n",
       "      <td>meta_data</td>\n",
       "    </tr>\n",
       "    <tr>\n",
       "      <th>3</th>\n",
       "      <td>created_at</td>\n",
       "      <td></td>\n",
       "      <td>meta_data</td>\n",
       "    </tr>\n",
       "    <tr>\n",
       "      <th>4</th>\n",
       "      <td>created_meta</td>\n",
       "      <td></td>\n",
       "      <td>meta_data</td>\n",
       "    </tr>\n",
       "    <tr>\n",
       "      <th>5</th>\n",
       "      <td>updated_at</td>\n",
       "      <td></td>\n",
       "      <td>meta_data</td>\n",
       "    </tr>\n",
       "    <tr>\n",
       "      <th>6</th>\n",
       "      <td>updated_meta</td>\n",
       "      <td></td>\n",
       "      <td>meta_data</td>\n",
       "    </tr>\n",
       "    <tr>\n",
       "      <th>7</th>\n",
       "      <td>meta</td>\n",
       "      <td></td>\n",
       "      <td>meta_data</td>\n",
       "    </tr>\n",
       "    <tr>\n",
       "      <th>8</th>\n",
       "      <td>calendar_year</td>\n",
       "      <td>Calendar Year</td>\n",
       "      <td>number</td>\n",
       "    </tr>\n",
       "    <tr>\n",
       "      <th>9</th>\n",
       "      <td>cal_month_num</td>\n",
       "      <td>Month</td>\n",
       "      <td>number</td>\n",
       "    </tr>\n",
       "    <tr>\n",
       "      <th>10</th>\n",
       "      <td>supplier</td>\n",
       "      <td>Supplier Name</td>\n",
       "      <td>text</td>\n",
       "    </tr>\n",
       "    <tr>\n",
       "      <th>11</th>\n",
       "      <td>item_code</td>\n",
       "      <td>Item code</td>\n",
       "      <td>text</td>\n",
       "    </tr>\n",
       "    <tr>\n",
       "      <th>12</th>\n",
       "      <td>item_description</td>\n",
       "      <td>Item Description</td>\n",
       "      <td>text</td>\n",
       "    </tr>\n",
       "    <tr>\n",
       "      <th>13</th>\n",
       "      <td>item_type</td>\n",
       "      <td>Item Type</td>\n",
       "      <td>text</td>\n",
       "    </tr>\n",
       "    <tr>\n",
       "      <th>14</th>\n",
       "      <td>rtl_sales</td>\n",
       "      <td>Cases of product sold from DLC dispensaries</td>\n",
       "      <td>number</td>\n",
       "    </tr>\n",
       "    <tr>\n",
       "      <th>15</th>\n",
       "      <td>rtl_transfers</td>\n",
       "      <td>Cases of product transferred to DLC dispensaries</td>\n",
       "      <td>number</td>\n",
       "    </tr>\n",
       "    <tr>\n",
       "      <th>16</th>\n",
       "      <td>whs_sales</td>\n",
       "      <td>Cases of product sold to MC licensees</td>\n",
       "      <td>number</td>\n",
       "    </tr>\n",
       "  </tbody>\n",
       "</table>\n",
       "</div>"
      ],
      "text/plain": [
       "        Column Names                                      Descriptions  \\\n",
       "0                sid                                                     \n",
       "1                 id                                                     \n",
       "2           position                                                     \n",
       "3         created_at                                                     \n",
       "4       created_meta                                                     \n",
       "5         updated_at                                                     \n",
       "6       updated_meta                                                     \n",
       "7               meta                                                     \n",
       "8      calendar_year                                     Calendar Year   \n",
       "9      cal_month_num                                             Month   \n",
       "10          supplier                                     Supplier Name   \n",
       "11         item_code                                         Item code   \n",
       "12  item_description                                  Item Description   \n",
       "13         item_type                                         Item Type   \n",
       "14         rtl_sales       Cases of product sold from DLC dispensaries   \n",
       "15     rtl_transfers  Cases of product transferred to DLC dispensaries   \n",
       "16         whs_sales             Cases of product sold to MC licensees   \n",
       "\n",
       "    Datatypes  \n",
       "0   meta_data  \n",
       "1   meta_data  \n",
       "2   meta_data  \n",
       "3   meta_data  \n",
       "4   meta_data  \n",
       "5   meta_data  \n",
       "6   meta_data  \n",
       "7   meta_data  \n",
       "8      number  \n",
       "9      number  \n",
       "10       text  \n",
       "11       text  \n",
       "12       text  \n",
       "13       text  \n",
       "14     number  \n",
       "15     number  \n",
       "16     number  "
      ]
     },
     "execution_count": 8,
     "metadata": {},
     "output_type": "execute_result"
    }
   ],
   "source": [
    "d"
   ]
  },
  {
   "cell_type": "code",
   "execution_count": 9,
   "id": "f95a8661-183a-4234-970d-6a57a5316c47",
   "metadata": {},
   "outputs": [],
   "source": [
    "with open(r\"C:\\Users\\shaik.gousia\\Desktop\\Shaik_Kandukuru_Gousia\\Cs_Files\\File2.json\",encoding=\"utf8\") as file:\n",
    "    data1 = json.load(file)"
   ]
  },
  {
   "cell_type": "code",
   "execution_count": 10,
   "id": "9d8bc91b-d835-4522-99a4-ae716cddbe9f",
   "metadata": {},
   "outputs": [
    {
     "data": {
      "text/plain": [
       "dict_keys(['meta', 'data'])"
      ]
     },
     "execution_count": 10,
     "metadata": {},
     "output_type": "execute_result"
    }
   ],
   "source": [
    "data1.keys()"
   ]
  },
  {
   "cell_type": "code",
   "execution_count": 11,
   "id": "b6cd3181-9890-4081-a5f8-d2e99e1480a1",
   "metadata": {},
   "outputs": [],
   "source": [
    "col = data1['meta']['view']['columns'] \n",
    "Name = []\n",
    "Description = []\n",
    "Datatype = []\n",
    "for i in col:\n",
    "    Name.append(i.get('fieldName').replace(\":\",\"\").strip())\n",
    "    Description.append(i.get('description',\"\").strip())\n",
    "    Datatype.append(i.get('dataTypeName'))\n",
    "d1 = pd.DataFrame({'Column Names':Name,'Descriptions':Description,'Datatypes':Datatype})"
   ]
  },
  {
   "cell_type": "code",
   "execution_count": 12,
   "id": "4d4f1744-53bf-4d89-833d-12e2f50beedd",
   "metadata": {},
   "outputs": [],
   "source": [
    "d.to_csv(r\"C:\\Users\\shaik.gousia\\Desktop\\Shaik_Kandukuru_Gousia\\task2_a.csv\")"
   ]
  },
  {
   "cell_type": "code",
   "execution_count": 13,
   "id": "c9851009-75dd-463b-8c05-d486850d47b0",
   "metadata": {},
   "outputs": [],
   "source": [
    "d1.to_csv(r\"C:\\Users\\shaik.gousia\\Desktop\\Shaik_Kandukuru_Gousia\\task2_b.csv\")"
   ]
  },
  {
   "cell_type": "code",
   "execution_count": null,
   "id": "81923ba2-216a-4407-9d25-cd2c34048d27",
   "metadata": {},
   "outputs": [],
   "source": []
  }
 ],
 "metadata": {
  "kernelspec": {
   "display_name": "Python 3 (ipykernel)",
   "language": "python",
   "name": "python3"
  },
  "language_info": {
   "codemirror_mode": {
    "name": "ipython",
    "version": 3
   },
   "file_extension": ".py",
   "mimetype": "text/x-python",
   "name": "python",
   "nbconvert_exporter": "python",
   "pygments_lexer": "ipython3",
   "version": "3.9.12"
  }
 },
 "nbformat": 4,
 "nbformat_minor": 5
}
