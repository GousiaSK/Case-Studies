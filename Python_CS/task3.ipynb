{
 "cells": [
  {
   "cell_type": "markdown",
   "id": "e138da1a-ff49-4da2-90d1-64fabe41dfc0",
   "metadata": {},
   "source": [
    "**Task 3**\n",
    "\n",
    "Use the `peter_pan.txt`. Download the file [here](https://drive.google.com/file/d/1D4q06bZ_hSEICxE8j843N4KasLq8YWPq/view?usp=sharing)  to answer the questions. \n",
    "\n",
    "a. The number of characters in the file are?\n",
    "\n",
    "1. **274394**\n",
    "2. 274951\n",
    "3. 374950\n",
    "4. 374951"
   ]
  },
  {
   "cell_type": "markdown",
   "id": "06c7338c-7594-4161-a9db-cad37ba34a85",
   "metadata": {},
   "source": [
    "Provide your code here\n",
    "```python\n",
    "your code goes below this cell\n",
    "```"
   ]
  },
  {
   "cell_type": "code",
   "execution_count": 1,
   "id": "55b6ded0-5a8b-4efd-b280-541c497b06ed",
   "metadata": {},
   "outputs": [
    {
     "data": {
      "text/plain": [
       "274394"
      ]
     },
     "execution_count": 1,
     "metadata": {},
     "output_type": "execute_result"
    }
   ],
   "source": [
    "path = open(r\"C:\\Users\\shaik.gousia\\Desktop\\Shaik_Kandukuru_Gousia\\Cs_Files\\peter_pan.txt\",\"rb\")\n",
    "data = path.read()\n",
    "new_data = data.decode()\n",
    "len(new_data)"
   ]
  },
  {
   "cell_type": "markdown",
   "id": "ce173feb-b711-4382-acf3-0a2cdbfa5ec0",
   "metadata": {},
   "source": [
    "b. How many chapters does this text have?\n",
    "\n",
    "1. 18\n",
    "2. **17**\n",
    "3. 16\n",
    "4. 21\n",
    "\n",
    "Provide your code here\n",
    "```python\n",
    "your code goes below this cell\n",
    "```"
   ]
  },
  {
   "cell_type": "code",
   "execution_count": 2,
   "id": "8bd8c71e-4010-48bc-a608-af8776c75b58",
   "metadata": {},
   "outputs": [
    {
     "data": {
      "text/plain": [
       "17"
      ]
     },
     "execution_count": 2,
     "metadata": {},
     "output_type": "execute_result"
    }
   ],
   "source": [
    "new_data.count(\"Chapter\")"
   ]
  },
  {
   "cell_type": "markdown",
   "id": "51ffb24c-3fb9-47a8-9e92-ae76b9ff05c4",
   "metadata": {},
   "source": [
    "c. Find the index where Chapter II starts?\n",
    "\n",
    "Provide your code here\n",
    "```python\n",
    "your code goes here\n",
    "```"
   ]
  },
  {
   "cell_type": "code",
   "execution_count": 3,
   "id": "cd5c50a0-54a1-4534-893f-1cd6af19a21a",
   "metadata": {},
   "outputs": [
    {
     "data": {
      "text/plain": [
       "17547"
      ]
     },
     "execution_count": 3,
     "metadata": {},
     "output_type": "execute_result"
    }
   ],
   "source": [
    "new_data.index(\"Chapter II.\")"
   ]
  },
  {
   "cell_type": "markdown",
   "id": "9b664049-ea60-4ade-bdad-903aa3c4a783",
   "metadata": {},
   "source": [
    "d. Find the index where Chapter III starts?\n",
    "\n",
    "Provide your code here\n",
    "```python\n",
    "your code goes here\n",
    "```"
   ]
  },
  {
   "cell_type": "code",
   "execution_count": 4,
   "id": "96c26237-9ebd-4b23-bbd4-24f671e758ac",
   "metadata": {},
   "outputs": [
    {
     "data": {
      "text/plain": [
       "33473"
      ]
     },
     "execution_count": 4,
     "metadata": {},
     "output_type": "execute_result"
    }
   ],
   "source": [
    "new_data.index(\"Chapter III.\")"
   ]
  },
  {
   "cell_type": "markdown",
   "id": "2d12d2c7-3db0-4e1e-9457-cb314f8c64e1",
   "metadata": {},
   "source": [
    "e. How many characters/alphabets/symbols (including white spaces etc) are there in Chapter II?\n",
    "\n",
    "1. **15926**\n",
    "2. 15921\n",
    "3. 15929\n",
    "4. 15920\n",
    "\n",
    "Provide your code here\n",
    "```python\n",
    "your code goes here\n",
    "```"
   ]
  },
  {
   "cell_type": "code",
   "execution_count": 5,
   "id": "a3a825d7-bb75-45d0-b2b6-7d1bae9b44c4",
   "metadata": {},
   "outputs": [
    {
     "data": {
      "text/plain": [
       "15926"
      ]
     },
     "execution_count": 5,
     "metadata": {},
     "output_type": "execute_result"
    }
   ],
   "source": [
    "starting_index = new_data.index(\"Chapter II\")\n",
    "ending_index = new_data.index(\"Chapter III\")\n",
    "len(new_data[starting_index:ending_index])"
   ]
  },
  {
   "cell_type": "code",
   "execution_count": null,
   "id": "7a9dbd7b-1891-4604-8a1c-dafac88e345a",
   "metadata": {},
   "outputs": [],
   "source": []
  }
 ],
 "metadata": {
  "kernelspec": {
   "display_name": "Python 3 (ipykernel)",
   "language": "python",
   "name": "python3"
  },
  "language_info": {
   "codemirror_mode": {
    "name": "ipython",
    "version": 3
   },
   "file_extension": ".py",
   "mimetype": "text/x-python",
   "name": "python",
   "nbconvert_exporter": "python",
   "pygments_lexer": "ipython3",
   "version": "3.9.12"
  }
 },
 "nbformat": 4,
 "nbformat_minor": 5
}
